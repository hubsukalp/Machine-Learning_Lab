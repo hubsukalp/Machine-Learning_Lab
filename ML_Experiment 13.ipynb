{
 "cells": [
  {
   "cell_type": "code",
   "execution_count": 1,
   "id": "f25c1d08-669e-433c-87d1-c4edee0f85a5",
   "metadata": {},
   "outputs": [
    {
     "name": "stdout",
     "output_type": "stream",
     "text": [
      "Requirement already satisfied: mlxtend in c:\\users\\hp\\anaconda3\\lib\\site-packages (0.23.4)\n",
      "Requirement already satisfied: scipy>=1.2.1 in c:\\users\\hp\\anaconda3\\lib\\site-packages (from mlxtend) (1.15.3)\n",
      "Requirement already satisfied: numpy>=1.16.2 in c:\\users\\hp\\anaconda3\\lib\\site-packages (from mlxtend) (2.1.3)\n",
      "Requirement already satisfied: pandas>=0.24.2 in c:\\users\\hp\\anaconda3\\lib\\site-packages (from mlxtend) (2.2.3)\n",
      "Requirement already satisfied: scikit-learn>=1.3.1 in c:\\users\\hp\\anaconda3\\lib\\site-packages (from mlxtend) (1.6.1)\n",
      "Requirement already satisfied: matplotlib>=3.0.0 in c:\\users\\hp\\anaconda3\\lib\\site-packages (from mlxtend) (3.10.0)\n",
      "Requirement already satisfied: joblib>=0.13.2 in c:\\users\\hp\\anaconda3\\lib\\site-packages (from mlxtend) (1.4.2)\n",
      "Requirement already satisfied: contourpy>=1.0.1 in c:\\users\\hp\\anaconda3\\lib\\site-packages (from matplotlib>=3.0.0->mlxtend) (1.3.1)\n",
      "Requirement already satisfied: cycler>=0.10 in c:\\users\\hp\\anaconda3\\lib\\site-packages (from matplotlib>=3.0.0->mlxtend) (0.11.0)\n",
      "Requirement already satisfied: fonttools>=4.22.0 in c:\\users\\hp\\anaconda3\\lib\\site-packages (from matplotlib>=3.0.0->mlxtend) (4.55.3)\n",
      "Requirement already satisfied: kiwisolver>=1.3.1 in c:\\users\\hp\\anaconda3\\lib\\site-packages (from matplotlib>=3.0.0->mlxtend) (1.4.8)\n",
      "Requirement already satisfied: packaging>=20.0 in c:\\users\\hp\\anaconda3\\lib\\site-packages (from matplotlib>=3.0.0->mlxtend) (24.2)\n",
      "Requirement already satisfied: pillow>=8 in c:\\users\\hp\\anaconda3\\lib\\site-packages (from matplotlib>=3.0.0->mlxtend) (11.1.0)\n",
      "Requirement already satisfied: pyparsing>=2.3.1 in c:\\users\\hp\\anaconda3\\lib\\site-packages (from matplotlib>=3.0.0->mlxtend) (3.2.0)\n",
      "Requirement already satisfied: python-dateutil>=2.7 in c:\\users\\hp\\anaconda3\\lib\\site-packages (from matplotlib>=3.0.0->mlxtend) (2.9.0.post0)\n",
      "Requirement already satisfied: pytz>=2020.1 in c:\\users\\hp\\anaconda3\\lib\\site-packages (from pandas>=0.24.2->mlxtend) (2024.1)\n",
      "Requirement already satisfied: tzdata>=2022.7 in c:\\users\\hp\\anaconda3\\lib\\site-packages (from pandas>=0.24.2->mlxtend) (2025.2)\n",
      "Requirement already satisfied: six>=1.5 in c:\\users\\hp\\anaconda3\\lib\\site-packages (from python-dateutil>=2.7->matplotlib>=3.0.0->mlxtend) (1.17.0)\n",
      "Requirement already satisfied: threadpoolctl>=3.1.0 in c:\\users\\hp\\anaconda3\\lib\\site-packages (from scikit-learn>=1.3.1->mlxtend) (3.5.0)\n"
     ]
    }
   ],
   "source": [
    "!pip install mlxtend"
   ]
  },
  {
   "cell_type": "code",
   "execution_count": 2,
   "id": "c6263e83-d480-4f6a-a6fc-6017742c6fa6",
   "metadata": {},
   "outputs": [],
   "source": [
    "import pandas as pd\n",
    "from mlxtend.frequent_patterns import apriori, association_rules"
   ]
  },
  {
   "cell_type": "code",
   "execution_count": 3,
   "id": "1fedde86-cc93-4d53-8420-249b7dd4a222",
   "metadata": {},
   "outputs": [],
   "source": [
    "# Each transaction is as list of items purchased together\n",
    "dataset = [\n",
    "    ['milk', 'bread', 'nuts', 'apple'],\n",
    "    ['milk', 'bread', 'nuts'],\n",
    "    ['milk', 'bread'],\n",
    "    ['milk','apple'],\n",
    "    ['milk', 'bread'],\n",
    "    ['milk', 'apple'],\n",
    "    ['milk', 'bread', 'apple'],\n",
    "    ['milk', 'bread', 'apple'],\n",
    "    ['milk', 'bread', 'nuts'],\n",
    "]  "
   ]
  },
  {
   "cell_type": "code",
   "execution_count": 4,
   "id": "d6402106-41b9-4bd4-9a2f-3a6dc9b38fd8",
   "metadata": {},
   "outputs": [],
   "source": [
    "from mlxtend.preprocessing import TransactionEncoder\n",
    "te = TransactionEncoder()\n",
    "te_array = te.fit(dataset).transform(dataset)\n",
    "df = pd.DataFrame(te_array, columns=te.columns_)"
   ]
  },
  {
   "cell_type": "code",
   "execution_count": 5,
   "id": "650d5529-1a13-4e7d-a027-19900a15564d",
   "metadata": {},
   "outputs": [
    {
     "name": "stdout",
     "output_type": "stream",
     "text": [
      "One-Hot Encoded Transaction Data:\n",
      "   apple  bread  milk   nuts\n",
      "0   True   True  True   True\n",
      "1  False   True  True   True\n",
      "2  False   True  True  False\n",
      "3   True  False  True  False\n",
      "4  False   True  True  False\n",
      "5   True  False  True  False\n",
      "6   True   True  True  False\n",
      "7   True   True  True  False\n",
      "8  False   True  True   True\n"
     ]
    }
   ],
   "source": [
    "print(\"One-Hot Encoded Transaction Data:\")\n",
    "print(df)"
   ]
  },
  {
   "cell_type": "code",
   "execution_count": 6,
   "id": "cae8a304-4fa8-43ec-9004-a8482a6993b1",
   "metadata": {},
   "outputs": [
    {
     "name": "stdout",
     "output_type": "stream",
     "text": [
      "\n",
      " Frequent Itemsets:\n",
      "     support              itemsets\n",
      "0   0.555556               (apple)\n",
      "1   0.777778               (bread)\n",
      "2   1.000000                (milk)\n",
      "3   0.333333                (nuts)\n",
      "4   0.333333        (bread, apple)\n",
      "5   0.555556         (milk, apple)\n",
      "6   0.777778         (bread, milk)\n",
      "7   0.333333         (nuts, bread)\n",
      "8   0.333333          (nuts, milk)\n",
      "9   0.333333  (bread, apple, milk)\n",
      "10  0.333333   (nuts, bread, milk)\n"
     ]
    }
   ],
   "source": [
    "frequent_itemsets = apriori(df, min_support=0.3, use_colnames=True)\n",
    "print(\"\\n Frequent Itemsets:\")\n",
    "print(frequent_itemsets)"
   ]
  },
  {
   "cell_type": "code",
   "execution_count": 7,
   "id": "b4b294b0-c6e0-4679-84c8-8d8ad135dba7",
   "metadata": {},
   "outputs": [
    {
     "name": "stdout",
     "output_type": "stream",
     "text": [
      "\n",
      " Association Rules: \n",
      "       antecedents     consequents   support  confidence      lift\n",
      "0           (milk)         (apple)  0.555556    0.555556  1.000000\n",
      "1          (apple)          (milk)  0.555556    1.000000  1.000000\n",
      "2          (bread)          (milk)  0.777778    1.000000  1.000000\n",
      "3           (milk)         (bread)  0.777778    0.777778  1.000000\n",
      "4           (nuts)         (bread)  0.333333    1.000000  1.285714\n",
      "5          (bread)          (nuts)  0.333333    0.428571  1.285714\n",
      "6           (nuts)          (milk)  0.333333    1.000000  1.000000\n",
      "7           (milk)          (nuts)  0.333333    0.333333  1.000000\n",
      "8   (bread, apple)          (milk)  0.333333    1.000000  1.000000\n",
      "9           (milk)  (bread, apple)  0.333333    0.333333  1.000000\n",
      "10   (nuts, bread)          (milk)  0.333333    1.000000  1.000000\n",
      "11    (nuts, milk)         (bread)  0.333333    1.000000  1.285714\n",
      "12   (bread, milk)          (nuts)  0.333333    0.428571  1.285714\n",
      "13          (nuts)   (bread, milk)  0.333333    1.000000  1.285714\n",
      "14         (bread)    (nuts, milk)  0.333333    0.428571  1.285714\n",
      "15          (milk)   (nuts, bread)  0.333333    0.333333  1.000000\n"
     ]
    },
    {
     "name": "stderr",
     "output_type": "stream",
     "text": [
      "C:\\Users\\HP\\anaconda3\\Lib\\site-packages\\mlxtend\\frequent_patterns\\association_rules.py:186: RuntimeWarning: invalid value encountered in divide\n",
      "  cert_metric = np.where(certainty_denom == 0, 0, certainty_num / certainty_denom)\n"
     ]
    }
   ],
   "source": [
    "rules = association_rules(frequent_itemsets, metric=\"lift\" ,min_threshold=1.0)\n",
    "print(\"\\n Association Rules: \")\n",
    "print(rules[['antecedents' , 'consequents', 'support', 'confidence', 'lift']]) "
   ]
  },
  {
   "cell_type": "code",
   "execution_count": 8,
   "id": "4106ade1-2b93-4c3c-8e42-324ea82c863d",
   "metadata": {},
   "outputs": [
    {
     "name": "stdout",
     "output_type": "stream",
     "text": [
      "\n",
      " Top rules by Lift:\n",
      "       antecedents     consequents   support  confidence      lift\n",
      "5          (bread)          (nuts)  0.333333    0.428571  1.285714\n",
      "14         (bread)    (nuts, milk)  0.333333    0.428571  1.285714\n",
      "12   (bread, milk)          (nuts)  0.333333    0.428571  1.285714\n",
      "4           (nuts)         (bread)  0.333333    1.000000  1.285714\n",
      "13          (nuts)   (bread, milk)  0.333333    1.000000  1.285714\n",
      "11    (nuts, milk)         (bread)  0.333333    1.000000  1.285714\n",
      "0           (milk)         (apple)  0.555556    0.555556  1.000000\n",
      "1          (apple)          (milk)  0.555556    1.000000  1.000000\n",
      "7           (milk)          (nuts)  0.333333    0.333333  1.000000\n",
      "6           (nuts)          (milk)  0.333333    1.000000  1.000000\n",
      "2          (bread)          (milk)  0.777778    1.000000  1.000000\n",
      "3           (milk)         (bread)  0.777778    0.777778  1.000000\n",
      "10   (nuts, bread)          (milk)  0.333333    1.000000  1.000000\n",
      "9           (milk)  (bread, apple)  0.333333    0.333333  1.000000\n",
      "8   (bread, apple)          (milk)  0.333333    1.000000  1.000000\n",
      "15          (milk)   (nuts, bread)  0.333333    0.333333  1.000000\n"
     ]
    }
   ],
   "source": [
    "rules = rules.sort_values(by='lift', ascending=False)\n",
    "print(\"\\n Top rules by Lift:\")\n",
    "print(rules[['antecedents', 'consequents', 'support', 'confidence', 'lift']])"
   ]
  }
 ],
 "metadata": {
  "kernelspec": {
   "display_name": "Python 3 (ipykernel)",
   "language": "python",
   "name": "python3"
  },
  "language_info": {
   "codemirror_mode": {
    "name": "ipython",
    "version": 3
   },
   "file_extension": ".py",
   "mimetype": "text/x-python",
   "name": "python",
   "nbconvert_exporter": "python",
   "pygments_lexer": "ipython3",
   "version": "3.13.5"
  }
 },
 "nbformat": 4,
 "nbformat_minor": 5
}
