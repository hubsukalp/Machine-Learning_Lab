{
 "cells": [
  {
   "cell_type": "code",
   "execution_count": 1,
   "id": "69662006-f8b4-4e8b-99e1-b83c067699ee",
   "metadata": {},
   "outputs": [],
   "source": [
    "import numpy as np\n",
    "import pandas as pd\n",
    "import matplotlib.pyplot as plt"
   ]
  },
  {
   "cell_type": "code",
   "execution_count": 2,
   "id": "e2d23a1c-707c-40a5-b281-137b1ccc76d5",
   "metadata": {},
   "outputs": [],
   "source": [
    "X = np.array([1., 2., 3., 4., 5.])\n",
    "y = np.array([0., 0., 0., 1., 1.,])\n",
    "m = len(y)"
   ]
  },
  {
   "cell_type": "code",
   "execution_count": 3,
   "id": "179ae9bb-3289-4817-a0d6-bdf2c313a709",
   "metadata": {},
   "outputs": [],
   "source": [
    "def sigmoid(z):\n",
    "    return 1.0 / (1.0 + np.exp(-z))"
   ]
  },
  {
   "cell_type": "code",
   "execution_count": 4,
   "id": "03016811-e396-471c-aee3-6fb33d023a1f",
   "metadata": {},
   "outputs": [],
   "source": [
    "b0 = 0.0\n",
    "b1 = 0.0\n",
    "alpha = 0.1"
   ]
  },
  {
   "cell_type": "code",
   "execution_count": 5,
   "id": "e76bae4c-bed4-47eb-8bc4-8189ec7b6c89",
   "metadata": {},
   "outputs": [
    {
     "name": "stdout",
     "output_type": "stream",
     "text": [
      "Initial h: [0.5 0.5 0.5 0.5 0.5]\n",
      "Initial cost: 0.6931471805599433\n"
     ]
    }
   ],
   "source": [
    "z = b0 + b1 * X\n",
    "h = sigmoid(z)\n",
    "eps = 1e-15\n",
    "initial_cost = -(1.0 / m) * np.sum(y * np.log(h + eps) + (1 - y) * np.log(1 - h + eps))\n",
    "print(\"Initial h:\", h)\n",
    "print(\"Initial cost:\", initial_cost)"
   ]
  },
  {
   "cell_type": "code",
   "execution_count": 6,
   "id": "167338ce-00ce-4816-9c12-356d14cb4f32",
   "metadata": {},
   "outputs": [
    {
     "name": "stdout",
     "output_type": "stream",
     "text": [
      "grad_b0 = 0.1\n",
      "grad_b1 = 0.1\n"
     ]
    }
   ],
   "source": [
    "h_minus_y = h - y\n",
    "grad_b0 = np.mean(h_minus_y)\n",
    "grad_b1 = np.mean(h_minus_y * X)\n",
    "print(\"grad_b0 =\", grad_b0)\n",
    "print(\"grad_b1 =\", grad_b0)"
   ]
  },
  {
   "cell_type": "code",
   "execution_count": 7,
   "id": "0d8decce-375f-4db3-9c98-16f55e2640fe",
   "metadata": {},
   "outputs": [
    {
     "name": "stdout",
     "output_type": "stream",
     "text": [
      "After one update: b0 = -0.010000000000000002 , b1 = 0.03\n"
     ]
    }
   ],
   "source": [
    "b0_new = b0 - alpha * grad_b0\n",
    "b1_new = b1 - alpha * grad_b1\n",
    "print(\"After one update: b0 =\", b0_new, \", b1 =\", b1_new)"
   ]
  },
  {
   "cell_type": "code",
   "execution_count": 10,
   "id": "c516daef-98ed-4e65-b3a3-eccad208d4c8",
   "metadata": {},
   "outputs": [],
   "source": [
    "b0, b1 = 0.0, 0.0\n",
    "nu_iter = 2000\n",
    "n_iter = 2000 \n",
    "history = []\n",
    "for it in range(n_iter):\n",
    "    z = b0 + b1 * X\n",
    "    h = sigmoid(z)\n",
    "    grad_b0 = np.mean(h - y)\n",
    "    grad_b1 = np.mean((h - y) * X)\n",
    "    cost = - (1.0 / m) * np.sum(y * np.log(h +eps) + (1 - y) * np.log(1 - h + eps))\n",
    "    history.append((it, b0, b1, cost))\n",
    "    b0 -= alpha * grad_b0\n",
    "    b1 -= alpha * grad_b1"
   ]
  },
  {
   "cell_type": "code",
   "execution_count": 11,
   "id": "76955c60-0eec-4223-b49e-d87d7e534aa5",
   "metadata": {},
   "outputs": [
    {
     "name": "stdout",
     "output_type": "stream",
     "text": [
      "\n",
      "Final parameters after 2000 iterations:\n",
      " b0 = -8.124229652999901\n",
      " b1 = 2.379077884857112\n",
      "Decision boundary x = 3.4148649376764073\n",
      "Final cost J =  0.1197651327339016\n"
     ]
    }
   ],
   "source": [
    "print(\"\\nFinal parameters after {} iterations:\".format(n_iter))\n",
    "print(\" b0 =\", b0)\n",
    "print(\" b1 =\", b1)\n",
    "decision_boundary = -b0 / b1\n",
    "print(\"Decision boundary x =\", decision_boundary)\n",
    "print(\"Final cost J = \", history[-1][3])"
   ]
  },
  {
   "cell_type": "code",
   "execution_count": 9,
   "id": "a13c96c9-0992-4e8a-8684-01f727a5e765",
   "metadata": {},
   "outputs": [],
   "source": [
    "X_plot = np.linspace(0, 6, 200)\n",
    "y_plot = sigmoid(b0 + b1 * X_plot)"
   ]
  },
  {
   "cell_type": "code",
   "execution_count": 13,
   "id": "76a37f11-7c85-49a6-8028-f44c8c5bc0e8",
   "metadata": {},
   "outputs": [
    {
     "ename": "NameError",
     "evalue": "name 'X_plot' is not defined",
     "output_type": "error",
     "traceback": [
      "\u001b[1;31m---------------------------------------------------------------------------\u001b[0m",
      "\u001b[1;31mNameError\u001b[0m                                 Traceback (most recent call last)",
      "Cell \u001b[1;32mIn[13], line 3\u001b[0m\n\u001b[0;32m      1\u001b[0m plt\u001b[38;5;241m.\u001b[39mfigure(figsize\u001b[38;5;241m=\u001b[39m(\u001b[38;5;241m8\u001b[39m,\u001b[38;5;241m5\u001b[39m))\n\u001b[0;32m      2\u001b[0m plt\u001b[38;5;241m.\u001b[39mscatter(X, y)\n\u001b[1;32m----> 3\u001b[0m plt\u001b[38;5;241m.\u001b[39mplot(X_plot, y_plot)\n\u001b[0;32m      4\u001b[0m plt\u001b[38;5;241m.\u001b[39maxhline(\u001b[38;5;241m0.5\u001b[39m, linestyle\u001b[38;5;241m=\u001b[39m\u001b[38;5;124m'\u001b[39m\u001b[38;5;124m--\u001b[39m\u001b[38;5;124m'\u001b[39m)\n\u001b[0;32m      5\u001b[0m plt\u001b[38;5;241m.\u001b[39mtitle(\u001b[38;5;124m\"\u001b[39m\u001b[38;5;124mLogistic regression fit (manual gradient descent)\u001b[39m\u001b[38;5;124m\"\u001b[39m)\n",
      "\u001b[1;31mNameError\u001b[0m: name 'X_plot' is not defined"
     ]
    },
    {
     "data": {
      "image/png": "[encoded data removed]",
      "text/plain": [
       "<Figure size 800x500 with 1 Axes>"
      ]
     },
     "metadata": {},
     "output_type": "display_data"
    }
   ],
   "source": [
    "# Assuming X contains your original data points\n",
    "# Create a smooth line for plotting\n",
    "X_plot = np.linspace(min(X), max(X), 100).reshape(-1, 1)  # 100 points between min and max of X\n",
    "\n",
    "# Calculate y_plot using your model\n",
    "# This is a placeholder - replace with your actual model prediction\n",
    "# For example, if you have a logistic regression model:\n",
    "# y_plot = model.predict_proba(X_plot)[:, 1]  # For sklearn model\n",
    "# Or manually: y_plot = 1 / (1 + np.exp(-(b0 + b1 * X_plot)))\n",
    "\n",
    "# Now create the plot\n",
    "plt.figure(figsize=(8,5))\n",
    "plt.scatter(X, y)\n",
    "plt.plot(X_plot, y_plot)\n",
    "plt.axhline(0.5, linestyle='--')\n",
    "plt.title(\"Logistic regression fit (manual gradient descent)\")\n",
    "plt.xlabel(\"Study hours\")\n",
    "plt.ylabel(\"P(pass)\")\n",
    "plt.grid(True)\n",
    "plt.show()"
   ]
  },
  {
   "cell_type": "code",
   "execution_count": null,
   "id": "40fdf809-1fbb-4cc1-abdc-027663274130",
   "metadata": {},
   "outputs": [],
   "source": []
  }
 ],
 "metadata": {
  "kernelspec": {
   "display_name": "Python 3 (ipykernel)",
   "language": "python",
   "name": "python3"
  },
  "language_info": {
   "codemirror_mode": {
    "name": "ipython",
    "version": 3
   },
   "file_extension": ".py",
   "mimetype": "text/x-python",
   "name": "python",
   "nbconvert_exporter": "python",
   "pygments_lexer": "ipython3",
   "version": "3.13.5"
  }
 },
 "nbformat": 4,
 "nbformat_minor": 5
}
